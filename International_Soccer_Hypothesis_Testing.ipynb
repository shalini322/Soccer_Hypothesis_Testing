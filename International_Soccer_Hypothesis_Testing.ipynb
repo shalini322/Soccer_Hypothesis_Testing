{
 "cells": [
  {
   "cell_type": "code",
   "execution_count": 3,
   "id": "a3cdc91e-f6ea-40da-ba85-424c3df88350",
   "metadata": {
    "scrolled": true
   },
   "outputs": [
    {
     "name": "stdout",
     "output_type": "stream",
     "text": [
      "Requirement already satisfied: pandas in c:\\users\\shali\\appdata\\local\\programs\\python\\python313\\lib\\site-packages (2.3.0)\n",
      "Requirement already satisfied: numpy>=1.26.0 in c:\\users\\shali\\appdata\\local\\programs\\python\\python313\\lib\\site-packages (from pandas) (2.3.1)\n",
      "Requirement already satisfied: python-dateutil>=2.8.2 in c:\\users\\shali\\appdata\\local\\programs\\python\\python313\\lib\\site-packages (from pandas) (2.9.0.post0)\n",
      "Requirement already satisfied: pytz>=2020.1 in c:\\users\\shali\\appdata\\local\\programs\\python\\python313\\lib\\site-packages (from pandas) (2025.2)\n",
      "Requirement already satisfied: tzdata>=2022.7 in c:\\users\\shali\\appdata\\local\\programs\\python\\python313\\lib\\site-packages (from pandas) (2025.2)\n",
      "Requirement already satisfied: six>=1.5 in c:\\users\\shali\\appdata\\local\\programs\\python\\python313\\lib\\site-packages (from python-dateutil>=2.8.2->pandas) (1.17.0)\n",
      "Requirement already satisfied: numpy in c:\\users\\shali\\appdata\\local\\programs\\python\\python313\\lib\\site-packages (2.3.1)\n",
      "Requirement already satisfied: pingouin in c:\\users\\shali\\appdata\\local\\programs\\python\\python313\\lib\\site-packages (0.5.5)\n",
      "Requirement already satisfied: matplotlib in c:\\users\\shali\\appdata\\local\\programs\\python\\python313\\lib\\site-packages (from pingouin) (3.10.3)\n",
      "Requirement already satisfied: numpy in c:\\users\\shali\\appdata\\local\\programs\\python\\python313\\lib\\site-packages (from pingouin) (2.3.1)\n",
      "Requirement already satisfied: pandas>=1.5 in c:\\users\\shali\\appdata\\local\\programs\\python\\python313\\lib\\site-packages (from pingouin) (2.3.0)\n",
      "Requirement already satisfied: pandas-flavor in c:\\users\\shali\\appdata\\local\\programs\\python\\python313\\lib\\site-packages (from pingouin) (0.7.0)\n",
      "Requirement already satisfied: scikit-learn>=1.2 in c:\\users\\shali\\appdata\\local\\programs\\python\\python313\\lib\\site-packages (from pingouin) (1.7.0)\n",
      "Requirement already satisfied: scipy in c:\\users\\shali\\appdata\\local\\programs\\python\\python313\\lib\\site-packages (from pingouin) (1.16.0)\n",
      "Requirement already satisfied: seaborn in c:\\users\\shali\\appdata\\local\\programs\\python\\python313\\lib\\site-packages (from pingouin) (0.13.2)\n",
      "Requirement already satisfied: statsmodels in c:\\users\\shali\\appdata\\local\\programs\\python\\python313\\lib\\site-packages (from pingouin) (0.14.4)\n",
      "Requirement already satisfied: tabulate in c:\\users\\shali\\appdata\\local\\programs\\python\\python313\\lib\\site-packages (from pingouin) (0.9.0)\n",
      "Requirement already satisfied: python-dateutil>=2.8.2 in c:\\users\\shali\\appdata\\local\\programs\\python\\python313\\lib\\site-packages (from pandas>=1.5->pingouin) (2.9.0.post0)\n",
      "Requirement already satisfied: pytz>=2020.1 in c:\\users\\shali\\appdata\\local\\programs\\python\\python313\\lib\\site-packages (from pandas>=1.5->pingouin) (2025.2)\n",
      "Requirement already satisfied: tzdata>=2022.7 in c:\\users\\shali\\appdata\\local\\programs\\python\\python313\\lib\\site-packages (from pandas>=1.5->pingouin) (2025.2)\n",
      "Requirement already satisfied: six>=1.5 in c:\\users\\shali\\appdata\\local\\programs\\python\\python313\\lib\\site-packages (from python-dateutil>=2.8.2->pandas>=1.5->pingouin) (1.17.0)\n",
      "Requirement already satisfied: joblib>=1.2.0 in c:\\users\\shali\\appdata\\local\\programs\\python\\python313\\lib\\site-packages (from scikit-learn>=1.2->pingouin) (1.5.1)\n",
      "Requirement already satisfied: threadpoolctl>=3.1.0 in c:\\users\\shali\\appdata\\local\\programs\\python\\python313\\lib\\site-packages (from scikit-learn>=1.2->pingouin) (3.6.0)\n",
      "Requirement already satisfied: contourpy>=1.0.1 in c:\\users\\shali\\appdata\\local\\programs\\python\\python313\\lib\\site-packages (from matplotlib->pingouin) (1.3.2)\n",
      "Requirement already satisfied: cycler>=0.10 in c:\\users\\shali\\appdata\\local\\programs\\python\\python313\\lib\\site-packages (from matplotlib->pingouin) (0.12.1)\n",
      "Requirement already satisfied: fonttools>=4.22.0 in c:\\users\\shali\\appdata\\local\\programs\\python\\python313\\lib\\site-packages (from matplotlib->pingouin) (4.58.4)\n",
      "Requirement already satisfied: kiwisolver>=1.3.1 in c:\\users\\shali\\appdata\\local\\programs\\python\\python313\\lib\\site-packages (from matplotlib->pingouin) (1.4.8)\n",
      "Requirement already satisfied: packaging>=20.0 in c:\\users\\shali\\appdata\\local\\programs\\python\\python313\\lib\\site-packages (from matplotlib->pingouin) (25.0)\n",
      "Requirement already satisfied: pillow>=8 in c:\\users\\shali\\appdata\\local\\programs\\python\\python313\\lib\\site-packages (from matplotlib->pingouin) (11.2.1)\n",
      "Requirement already satisfied: pyparsing>=2.3.1 in c:\\users\\shali\\appdata\\local\\programs\\python\\python313\\lib\\site-packages (from matplotlib->pingouin) (3.2.3)\n",
      "Requirement already satisfied: xarray in c:\\users\\shali\\appdata\\local\\programs\\python\\python313\\lib\\site-packages (from pandas-flavor->pingouin) (2025.6.1)\n",
      "Requirement already satisfied: patsy>=0.5.6 in c:\\users\\shali\\appdata\\local\\programs\\python\\python313\\lib\\site-packages (from statsmodels->pingouin) (1.0.1)\n",
      "Requirement already satisfied: matplotlib in c:\\users\\shali\\appdata\\local\\programs\\python\\python313\\lib\\site-packages (3.10.3)\n",
      "Requirement already satisfied: contourpy>=1.0.1 in c:\\users\\shali\\appdata\\local\\programs\\python\\python313\\lib\\site-packages (from matplotlib) (1.3.2)\n",
      "Requirement already satisfied: cycler>=0.10 in c:\\users\\shali\\appdata\\local\\programs\\python\\python313\\lib\\site-packages (from matplotlib) (0.12.1)\n",
      "Requirement already satisfied: fonttools>=4.22.0 in c:\\users\\shali\\appdata\\local\\programs\\python\\python313\\lib\\site-packages (from matplotlib) (4.58.4)\n",
      "Requirement already satisfied: kiwisolver>=1.3.1 in c:\\users\\shali\\appdata\\local\\programs\\python\\python313\\lib\\site-packages (from matplotlib) (1.4.8)\n",
      "Requirement already satisfied: numpy>=1.23 in c:\\users\\shali\\appdata\\local\\programs\\python\\python313\\lib\\site-packages (from matplotlib) (2.3.1)\n",
      "Requirement already satisfied: packaging>=20.0 in c:\\users\\shali\\appdata\\local\\programs\\python\\python313\\lib\\site-packages (from matplotlib) (25.0)\n",
      "Requirement already satisfied: pillow>=8 in c:\\users\\shali\\appdata\\local\\programs\\python\\python313\\lib\\site-packages (from matplotlib) (11.2.1)\n",
      "Requirement already satisfied: pyparsing>=2.3.1 in c:\\users\\shali\\appdata\\local\\programs\\python\\python313\\lib\\site-packages (from matplotlib) (3.2.3)\n",
      "Requirement already satisfied: python-dateutil>=2.7 in c:\\users\\shali\\appdata\\local\\programs\\python\\python313\\lib\\site-packages (from matplotlib) (2.9.0.post0)\n",
      "Requirement already satisfied: six>=1.5 in c:\\users\\shali\\appdata\\local\\programs\\python\\python313\\lib\\site-packages (from python-dateutil>=2.7->matplotlib) (1.17.0)\n",
      "Requirement already satisfied: seaborn in c:\\users\\shali\\appdata\\local\\programs\\python\\python313\\lib\\site-packages (0.13.2)\n",
      "Requirement already satisfied: numpy!=1.24.0,>=1.20 in c:\\users\\shali\\appdata\\local\\programs\\python\\python313\\lib\\site-packages (from seaborn) (2.3.1)\n",
      "Requirement already satisfied: pandas>=1.2 in c:\\users\\shali\\appdata\\local\\programs\\python\\python313\\lib\\site-packages (from seaborn) (2.3.0)\n",
      "Requirement already satisfied: matplotlib!=3.6.1,>=3.4 in c:\\users\\shali\\appdata\\local\\programs\\python\\python313\\lib\\site-packages (from seaborn) (3.10.3)\n",
      "Requirement already satisfied: contourpy>=1.0.1 in c:\\users\\shali\\appdata\\local\\programs\\python\\python313\\lib\\site-packages (from matplotlib!=3.6.1,>=3.4->seaborn) (1.3.2)\n",
      "Requirement already satisfied: cycler>=0.10 in c:\\users\\shali\\appdata\\local\\programs\\python\\python313\\lib\\site-packages (from matplotlib!=3.6.1,>=3.4->seaborn) (0.12.1)\n",
      "Requirement already satisfied: fonttools>=4.22.0 in c:\\users\\shali\\appdata\\local\\programs\\python\\python313\\lib\\site-packages (from matplotlib!=3.6.1,>=3.4->seaborn) (4.58.4)\n",
      "Requirement already satisfied: kiwisolver>=1.3.1 in c:\\users\\shali\\appdata\\local\\programs\\python\\python313\\lib\\site-packages (from matplotlib!=3.6.1,>=3.4->seaborn) (1.4.8)\n",
      "Requirement already satisfied: packaging>=20.0 in c:\\users\\shali\\appdata\\local\\programs\\python\\python313\\lib\\site-packages (from matplotlib!=3.6.1,>=3.4->seaborn) (25.0)\n",
      "Requirement already satisfied: pillow>=8 in c:\\users\\shali\\appdata\\local\\programs\\python\\python313\\lib\\site-packages (from matplotlib!=3.6.1,>=3.4->seaborn) (11.2.1)\n",
      "Requirement already satisfied: pyparsing>=2.3.1 in c:\\users\\shali\\appdata\\local\\programs\\python\\python313\\lib\\site-packages (from matplotlib!=3.6.1,>=3.4->seaborn) (3.2.3)\n",
      "Requirement already satisfied: python-dateutil>=2.7 in c:\\users\\shali\\appdata\\local\\programs\\python\\python313\\lib\\site-packages (from matplotlib!=3.6.1,>=3.4->seaborn) (2.9.0.post0)\n",
      "Requirement already satisfied: pytz>=2020.1 in c:\\users\\shali\\appdata\\local\\programs\\python\\python313\\lib\\site-packages (from pandas>=1.2->seaborn) (2025.2)\n",
      "Requirement already satisfied: tzdata>=2022.7 in c:\\users\\shali\\appdata\\local\\programs\\python\\python313\\lib\\site-packages (from pandas>=1.2->seaborn) (2025.2)\n",
      "Requirement already satisfied: six>=1.5 in c:\\users\\shali\\appdata\\local\\programs\\python\\python313\\lib\\site-packages (from python-dateutil>=2.7->matplotlib!=3.6.1,>=3.4->seaborn) (1.17.0)\n",
      "Requirement already satisfied: scipy in c:\\users\\shali\\appdata\\local\\programs\\python\\python313\\lib\\site-packages (1.16.0)\n",
      "Requirement already satisfied: numpy<2.6,>=1.25.2 in c:\\users\\shali\\appdata\\local\\programs\\python\\python313\\lib\\site-packages (from scipy) (2.3.1)\n"
     ]
    }
   ],
   "source": [
    "!pip install pandas\n",
    "!pip install numpy\n",
    "!pip install pingouin\n",
    "!pip install matplotlib\n",
    "!pip install seaborn\n",
    "!pip install scipy"
   ]
  },
  {
   "cell_type": "code",
   "execution_count": 4,
   "id": "7707baf8-a0dc-46b9-a5b2-6ff9bba8a7d2",
   "metadata": {},
   "outputs": [],
   "source": [
    "import pandas as pd\n",
    "import numpy as np\n",
    "import matplotlib.pyplot as plt\n",
    "import seaborn as sns\n",
    "import datetime as dt\n",
    "import pingouin as pg\n",
    "from scipy.stats import shapiro\n",
    "import scipy.stats as stats\n",
    "import warnings\n",
    "warnings.filterwarnings('ignore')\n",
    "\n",
    "# Set the significance level\n",
    "alpha = 0.10"
   ]
  },
  {
   "cell_type": "code",
   "execution_count": 10,
   "id": "76db48ae-095c-4b3d-8bdb-5b9df875fac0",
   "metadata": {},
   "outputs": [
    {
     "data": {
      "text/html": [
       "<div>\n",
       "<style scoped>\n",
       "    .dataframe tbody tr th:only-of-type {\n",
       "        vertical-align: middle;\n",
       "    }\n",
       "\n",
       "    .dataframe tbody tr th {\n",
       "        vertical-align: top;\n",
       "    }\n",
       "\n",
       "    .dataframe thead th {\n",
       "        text-align: right;\n",
       "    }\n",
       "</style>\n",
       "<table border=\"1\" class=\"dataframe\">\n",
       "  <thead>\n",
       "    <tr style=\"text-align: right;\">\n",
       "      <th></th>\n",
       "      <th>Unnamed: 0</th>\n",
       "      <th>date</th>\n",
       "      <th>home_team</th>\n",
       "      <th>away_team</th>\n",
       "      <th>home_score</th>\n",
       "      <th>away_score</th>\n",
       "      <th>tournament</th>\n",
       "    </tr>\n",
       "  </thead>\n",
       "  <tbody>\n",
       "    <tr>\n",
       "      <th>0</th>\n",
       "      <td>0</td>\n",
       "      <td>1969-11-01</td>\n",
       "      <td>Italy</td>\n",
       "      <td>France</td>\n",
       "      <td>1</td>\n",
       "      <td>0</td>\n",
       "      <td>Euro</td>\n",
       "    </tr>\n",
       "    <tr>\n",
       "      <th>1</th>\n",
       "      <td>1</td>\n",
       "      <td>1969-11-01</td>\n",
       "      <td>Denmark</td>\n",
       "      <td>England</td>\n",
       "      <td>4</td>\n",
       "      <td>3</td>\n",
       "      <td>Euro</td>\n",
       "    </tr>\n",
       "    <tr>\n",
       "      <th>2</th>\n",
       "      <td>2</td>\n",
       "      <td>1969-11-02</td>\n",
       "      <td>England</td>\n",
       "      <td>France</td>\n",
       "      <td>2</td>\n",
       "      <td>0</td>\n",
       "      <td>Euro</td>\n",
       "    </tr>\n",
       "    <tr>\n",
       "      <th>3</th>\n",
       "      <td>3</td>\n",
       "      <td>1969-11-02</td>\n",
       "      <td>Italy</td>\n",
       "      <td>Denmark</td>\n",
       "      <td>3</td>\n",
       "      <td>1</td>\n",
       "      <td>Euro</td>\n",
       "    </tr>\n",
       "    <tr>\n",
       "      <th>4</th>\n",
       "      <td>4</td>\n",
       "      <td>1975-08-25</td>\n",
       "      <td>Thailand</td>\n",
       "      <td>Australia</td>\n",
       "      <td>3</td>\n",
       "      <td>2</td>\n",
       "      <td>AFC Championship</td>\n",
       "    </tr>\n",
       "  </tbody>\n",
       "</table>\n",
       "</div>"
      ],
      "text/plain": [
       "   Unnamed: 0        date home_team  away_team  home_score  away_score  \\\n",
       "0           0  1969-11-01     Italy     France           1           0   \n",
       "1           1  1969-11-01   Denmark    England           4           3   \n",
       "2           2  1969-11-02   England     France           2           0   \n",
       "3           3  1969-11-02     Italy    Denmark           3           1   \n",
       "4           4  1975-08-25  Thailand  Australia           3           2   \n",
       "\n",
       "         tournament  \n",
       "0              Euro  \n",
       "1              Euro  \n",
       "2              Euro  \n",
       "3              Euro  \n",
       "4  AFC Championship  "
      ]
     },
     "execution_count": 10,
     "metadata": {},
     "output_type": "execute_result"
    }
   ],
   "source": [
    "men_df = pd.read_csv(\"men_results.csv\")\n",
    "women_df = pd.read_csv(\"women_results.csv\")"
   ]
  },
  {
   "cell_type": "code",
   "execution_count": 11,
   "id": "20be8f96-8cf0-46cb-96a9-a71c739c1254",
   "metadata": {},
   "outputs": [
    {
     "data": {
      "text/html": [
       "<div>\n",
       "<style scoped>\n",
       "    .dataframe tbody tr th:only-of-type {\n",
       "        vertical-align: middle;\n",
       "    }\n",
       "\n",
       "    .dataframe tbody tr th {\n",
       "        vertical-align: top;\n",
       "    }\n",
       "\n",
       "    .dataframe thead th {\n",
       "        text-align: right;\n",
       "    }\n",
       "</style>\n",
       "<table border=\"1\" class=\"dataframe\">\n",
       "  <thead>\n",
       "    <tr style=\"text-align: right;\">\n",
       "      <th></th>\n",
       "      <th>Unnamed: 0</th>\n",
       "      <th>date</th>\n",
       "      <th>home_team</th>\n",
       "      <th>away_team</th>\n",
       "      <th>home_score</th>\n",
       "      <th>away_score</th>\n",
       "      <th>tournament</th>\n",
       "    </tr>\n",
       "  </thead>\n",
       "  <tbody>\n",
       "    <tr>\n",
       "      <th>0</th>\n",
       "      <td>0</td>\n",
       "      <td>1872-11-30</td>\n",
       "      <td>Scotland</td>\n",
       "      <td>England</td>\n",
       "      <td>0</td>\n",
       "      <td>0</td>\n",
       "      <td>Friendly</td>\n",
       "    </tr>\n",
       "    <tr>\n",
       "      <th>1</th>\n",
       "      <td>1</td>\n",
       "      <td>1873-03-08</td>\n",
       "      <td>England</td>\n",
       "      <td>Scotland</td>\n",
       "      <td>4</td>\n",
       "      <td>2</td>\n",
       "      <td>Friendly</td>\n",
       "    </tr>\n",
       "    <tr>\n",
       "      <th>2</th>\n",
       "      <td>2</td>\n",
       "      <td>1874-03-07</td>\n",
       "      <td>Scotland</td>\n",
       "      <td>England</td>\n",
       "      <td>2</td>\n",
       "      <td>1</td>\n",
       "      <td>Friendly</td>\n",
       "    </tr>\n",
       "    <tr>\n",
       "      <th>3</th>\n",
       "      <td>3</td>\n",
       "      <td>1875-03-06</td>\n",
       "      <td>England</td>\n",
       "      <td>Scotland</td>\n",
       "      <td>2</td>\n",
       "      <td>2</td>\n",
       "      <td>Friendly</td>\n",
       "    </tr>\n",
       "    <tr>\n",
       "      <th>4</th>\n",
       "      <td>4</td>\n",
       "      <td>1876-03-04</td>\n",
       "      <td>Scotland</td>\n",
       "      <td>England</td>\n",
       "      <td>3</td>\n",
       "      <td>0</td>\n",
       "      <td>Friendly</td>\n",
       "    </tr>\n",
       "  </tbody>\n",
       "</table>\n",
       "</div>"
      ],
      "text/plain": [
       "   Unnamed: 0        date home_team away_team  home_score  away_score  \\\n",
       "0           0  1872-11-30  Scotland   England           0           0   \n",
       "1           1  1873-03-08   England  Scotland           4           2   \n",
       "2           2  1874-03-07  Scotland   England           2           1   \n",
       "3           3  1875-03-06   England  Scotland           2           2   \n",
       "4           4  1876-03-04  Scotland   England           3           0   \n",
       "\n",
       "  tournament  \n",
       "0   Friendly  \n",
       "1   Friendly  \n",
       "2   Friendly  \n",
       "3   Friendly  \n",
       "4   Friendly  "
      ]
     },
     "execution_count": 11,
     "metadata": {},
     "output_type": "execute_result"
    }
   ],
   "source": [
    "men_df.head()"
   ]
  },
  {
   "cell_type": "code",
   "execution_count": 12,
   "id": "ac1a7f04-dd94-4d8e-b164-ab6d5439375c",
   "metadata": {},
   "outputs": [
    {
     "data": {
      "text/html": [
       "<div>\n",
       "<style scoped>\n",
       "    .dataframe tbody tr th:only-of-type {\n",
       "        vertical-align: middle;\n",
       "    }\n",
       "\n",
       "    .dataframe tbody tr th {\n",
       "        vertical-align: top;\n",
       "    }\n",
       "\n",
       "    .dataframe thead th {\n",
       "        text-align: right;\n",
       "    }\n",
       "</style>\n",
       "<table border=\"1\" class=\"dataframe\">\n",
       "  <thead>\n",
       "    <tr style=\"text-align: right;\">\n",
       "      <th></th>\n",
       "      <th>Unnamed: 0</th>\n",
       "      <th>date</th>\n",
       "      <th>home_team</th>\n",
       "      <th>away_team</th>\n",
       "      <th>home_score</th>\n",
       "      <th>away_score</th>\n",
       "      <th>tournament</th>\n",
       "    </tr>\n",
       "  </thead>\n",
       "  <tbody>\n",
       "    <tr>\n",
       "      <th>0</th>\n",
       "      <td>0</td>\n",
       "      <td>1969-11-01</td>\n",
       "      <td>Italy</td>\n",
       "      <td>France</td>\n",
       "      <td>1</td>\n",
       "      <td>0</td>\n",
       "      <td>Euro</td>\n",
       "    </tr>\n",
       "    <tr>\n",
       "      <th>1</th>\n",
       "      <td>1</td>\n",
       "      <td>1969-11-01</td>\n",
       "      <td>Denmark</td>\n",
       "      <td>England</td>\n",
       "      <td>4</td>\n",
       "      <td>3</td>\n",
       "      <td>Euro</td>\n",
       "    </tr>\n",
       "    <tr>\n",
       "      <th>2</th>\n",
       "      <td>2</td>\n",
       "      <td>1969-11-02</td>\n",
       "      <td>England</td>\n",
       "      <td>France</td>\n",
       "      <td>2</td>\n",
       "      <td>0</td>\n",
       "      <td>Euro</td>\n",
       "    </tr>\n",
       "    <tr>\n",
       "      <th>3</th>\n",
       "      <td>3</td>\n",
       "      <td>1969-11-02</td>\n",
       "      <td>Italy</td>\n",
       "      <td>Denmark</td>\n",
       "      <td>3</td>\n",
       "      <td>1</td>\n",
       "      <td>Euro</td>\n",
       "    </tr>\n",
       "    <tr>\n",
       "      <th>4</th>\n",
       "      <td>4</td>\n",
       "      <td>1975-08-25</td>\n",
       "      <td>Thailand</td>\n",
       "      <td>Australia</td>\n",
       "      <td>3</td>\n",
       "      <td>2</td>\n",
       "      <td>AFC Championship</td>\n",
       "    </tr>\n",
       "  </tbody>\n",
       "</table>\n",
       "</div>"
      ],
      "text/plain": [
       "   Unnamed: 0        date home_team  away_team  home_score  away_score  \\\n",
       "0           0  1969-11-01     Italy     France           1           0   \n",
       "1           1  1969-11-01   Denmark    England           4           3   \n",
       "2           2  1969-11-02   England     France           2           0   \n",
       "3           3  1969-11-02     Italy    Denmark           3           1   \n",
       "4           4  1975-08-25  Thailand  Australia           3           2   \n",
       "\n",
       "         tournament  \n",
       "0              Euro  \n",
       "1              Euro  \n",
       "2              Euro  \n",
       "3              Euro  \n",
       "4  AFC Championship  "
      ]
     },
     "execution_count": 12,
     "metadata": {},
     "output_type": "execute_result"
    }
   ],
   "source": [
    "women_df.head()"
   ]
  },
  {
   "cell_type": "code",
   "execution_count": 20,
   "id": "c8c20be7-7041-47b4-ae2a-133f98c857ce",
   "metadata": {},
   "outputs": [
    {
     "name": "stdout",
     "output_type": "stream",
     "text": [
      "(4884, 7)\n",
      "(44353, 7)\n"
     ]
    }
   ],
   "source": [
    "print(women_df.shape)\n",
    "print(men_df.shape)"
   ]
  },
  {
   "cell_type": "code",
   "execution_count": 22,
   "id": "4e4d7e84-895e-45fe-b90b-9782f349b516",
   "metadata": {},
   "outputs": [],
   "source": [
    "# Now we create a new column for Goals being scored by both men and women\n",
    "\n",
    "men_df['goals_scored'] = men_df['home_score'] + men_df['away_score']\n",
    "women_df['goals_scored'] = women_df['home_score'] + women_df['away_score']"
   ]
  },
  {
   "cell_type": "code",
   "execution_count": 26,
   "id": "2f3f6344-43a9-4c13-9074-cc116cd7efa3",
   "metadata": {},
   "outputs": [
    {
     "name": "stdout",
     "output_type": "stream",
     "text": [
      "0        0\n",
      "1        6\n",
      "2        3\n",
      "3        4\n",
      "4        3\n",
      "        ..\n",
      "44348    1\n",
      "44349    1\n",
      "44350    3\n",
      "44351    4\n",
      "44352    6\n",
      "Name: goals_scored, Length: 44353, dtype: int64\n",
      "0       1\n",
      "1       7\n",
      "2       2\n",
      "3       4\n",
      "4       5\n",
      "       ..\n",
      "4879    1\n",
      "4880    1\n",
      "4881    4\n",
      "4882    3\n",
      "4883    3\n",
      "Name: goals_scored, Length: 4884, dtype: int64\n"
     ]
    }
   ],
   "source": [
    "print(men_df['goals_scored'])     \n",
    "print(women_df['goals_scored'])   "
   ]
  },
  {
   "cell_type": "markdown",
   "id": "e2281725-8149-4f74-9a0d-a7bf1b6dd529",
   "metadata": {},
   "source": [
    "# Now determining if the data is normally distributed\n",
    "    1. The normal distribution is a symmetric bell-shaped curve, with the distribution centered around the mean.\n",
    "    2. Plotting a histogram with a kde plot will clearly show the curve.\n",
    "    3. If the normality is unclear from the plot, we can perform Shapiro-Wilk test.    "
   ]
  },
  {
   "cell_type": "code",
   "execution_count": 44,
   "id": "20f49dfe-4762-4f1f-8a37-f7b617372d9c",
   "metadata": {},
   "outputs": [
    {
     "data": {
      "image/png": "[encoded data removed]",
      "text/plain": [
       "<Figure size 800x400 with 1 Axes>"
      ]
     },
     "metadata": {},
     "output_type": "display_data"
    }
   ],
   "source": [
    "# Men's plot\n",
    "\n",
    "mean = men_df['goals_scored'].mean()\n",
    "median = men_df['goals_scored'].median()\n",
    "plt.figure(figsize=(8, 4))\n",
    "sns.histplot(men_df['goals_scored'], kde=True, bins=15, color='brown', edgecolor='black')\n",
    "plt.axvline(mean, color='green', linestyle='--', label=f'Mean: {mean:.2f}')\n",
    "plt.axvline(median, color='blue', linestyle='-', label=f'Median: {median:.2f}')\n",
    "plt.title(\"Men's Total Goals per Match\", fontsize=14)\n",
    "plt.xlabel(\"Goals Scored\", fontsize=12)\n",
    "plt.ylabel(\"Number of Matches\", fontsize=12)\n",
    "plt.legend()\n",
    "plt.grid(True, linestyle='--', alpha=0.1)\n",
    "plt.tight_layout()\n",
    "plt.show()"
   ]
  },
  {
   "cell_type": "code",
   "execution_count": 45,
   "id": "2e3ec967-7bb1-418a-a3ad-4c788c239fda",
   "metadata": {},
   "outputs": [
    {
     "data": {
      "image/png": "[encoded data removed]",
      "text/plain": [
       "<Figure size 800x400 with 1 Axes>"
      ]
     },
     "metadata": {},
     "output_type": "display_data"
    }
   ],
   "source": [
    "# Women's plot\n",
    "\n",
    "mean = women_df['goals_scored'].mean()\n",
    "median = women_df['goals_scored'].median()\n",
    "plt.figure(figsize=(8, 4))\n",
    "sns.histplot(women_df['goals_scored'], kde=True, bins=15, color='purple', edgecolor='black')\n",
    "plt.axvline(mean, color='red', linestyle='--', label=f'Mean: {mean:.2f}')\n",
    "plt.axvline(median, color='green', linestyle='-', label=f'Median: {median:.2f}')\n",
    "plt.title(\"Women's Total Goals per Match\", fontsize=14)\n",
    "plt.xlabel(\"Goals Scored\", fontsize=12)\n",
    "plt.ylabel(\"Number of Matches\", fontsize=12)\n",
    "plt.legend()\n",
    "plt.grid(True, linestyle='--', alpha=0.1)\n",
    "plt.tight_layout()\n",
    "plt.show()"
   ]
  },
  {
   "cell_type": "markdown",
   "id": "91c841a1-db71-4207-9a4d-08b0ca7d0d73",
   "metadata": {},
   "source": [
    "# Shapiro-Wilk Test Hypotheses :\n",
    "For both men’s and women’s goals, the hypotheses are:\n",
    "\n",
    "1. Null Hypothesis (H₀): The data comes from a normal distribution.\n",
    "\n",
    "2. Alternative Hypothesis (H₁): The data does not come from a normal distribution."
   ]
  },
  {
   "cell_type": "code",
   "execution_count": 47,
   "id": "0c61d697-7dfc-48b7-90fd-b7b0be27fb26",
   "metadata": {},
   "outputs": [
    {
     "name": "stdout",
     "output_type": "stream",
     "text": [
      "Shapiro-Wilk test statistic for men:  0.8972436900357965\n",
      "p-value for men:  0.0\n",
      "Shapiro-Wilk test statistic for women:  0.861581958610495\n",
      "p-value for wommen:  0.0\n"
     ]
    }
   ],
   "source": [
    "# Checking for Normality by Shapiro-Wilk test\n",
    "\n",
    "m_goal = men_df['goals_scored']\n",
    "w_goal = women_df['goals_scored']\n",
    "\n",
    "m_stat, m_pvalue = shapiro(m_goal)\n",
    "w_stat, w_pvalue = shapiro(w_goal)\n",
    "\n",
    "print(\"Shapiro-Wilk test statistic for men: \", m_stat)\n",
    "print(\"p-value for men: \", round(m_pvalue, 2))\n",
    "print(\"Shapiro-Wilk test statistic for women: \", w_stat)\n",
    "print(\"p-value for wommen: \", round(w_pvalue, 2))"
   ]
  },
  {
   "cell_type": "markdown",
   "id": "cfac6c3f-7ee6-41c0-833f-ded0e298518d",
   "metadata": {},
   "source": [
    "Conclusion:\n",
    "\n",
    "1. Since both p-values are less than 0.05, we reject the null hypothesis for both datasets.\n",
    "\n",
    "2. This means that the goals scored in both men's and women's matches do not follow a normal distribution."
   ]
  },
  {
   "cell_type": "markdown",
   "id": "fef1e654-899a-4ef4-b2b9-1ce9324e6ac5",
   "metadata": {},
   "source": [
    "# Checking Variance Equality\n",
    "\n",
    "I should compare the variances of the two datasets. For doing this, I use the Levene's test. \n",
    "If the variances are not equal, I need to use a modified t-test, such as the Welch's t-test, which does not assume equal variances.\n",
    "\n",
    " 1. Null : The variances of the women's goals and men's are not significantly different.\n",
    " 2. Alternate : The variances of the women's goals and men's are significantly different."
   ]
  },
  {
   "cell_type": "code",
   "execution_count": 51,
   "id": "029e35f3-e5ea-4f89-9416-791b355a39dc",
   "metadata": {},
   "outputs": [
    {
     "name": "stdout",
     "output_type": "stream",
     "text": [
      "Levene’s test statistic: 309.7258\n",
      "p-value: 0.0000\n",
      " Reject H₀: The variances are significantly different.\n"
     ]
    }
   ],
   "source": [
    "from scipy.stats import levene\n",
    "\n",
    "m_goals = men_df['goals_scored']\n",
    "w_goals = women_df['goals_scored']\n",
    "\n",
    "stat, p_value = levene(m_goals, w_goals)\n",
    "\n",
    "print(f\"Levene’s test statistic: {stat:.4f}\")\n",
    "print(f\"p-value: {p_value:.4f}\")\n",
    "\n",
    "alpha = 0.10\n",
    "if p_value > alpha:\n",
    "    print(\" Fail to reject H₀: The variances are not significantly different.\")\n",
    "else:\n",
    "    print(\" Reject H₀: The variances are significantly different.\")\n"
   ]
  },
  {
   "cell_type": "markdown",
   "id": "039d809c-5456-4ae6-9b49-041175b604d8",
   "metadata": {},
   "source": [
    "# Test 1\n",
    "\n",
    "We’re testing:\n",
    "\n",
    "1. H₀ (Null Hypothesis): μ ≤ 2.5 (The mean of scored goal of men's matches is equal or less than 2.5)\n",
    "\n",
    "2. H₁ (Alternative Hypothesis): μ > 2.5 (The mean of scored goal of men's matches is greater than 2.5)\n",
    "\n",
    "#### Conditions :\n",
    "\n",
    "1. One sample \n",
    "\n",
    "2. Large sample size (Central Limit Theorem applies)\n",
    "\n",
    "3. Population variance unknown → Use sample standard deviation\n",
    "\n",
    "4. Right-tailed test \n",
    "\n",
    "So, with this condition, I use Z-Statistic.\n",
    "\n",
    "#### Z-Test Formula for One Sample:\n",
    "\n",
    "    Z = (x̄ - μ) / (s / √n)\n",
    "    \n",
    "    x̄ = sample mean\n",
    "\n",
    "    μ = hypothesized population mean\n",
    "\n",
    "    s = sample standard deviation\n",
    "\n",
    "    n = sample size"
   ]
  },
  {
   "cell_type": "code",
   "execution_count": 52,
   "id": "f0894d46-1dd1-44fe-95e5-9a6934113d53",
   "metadata": {},
   "outputs": [
    {
     "name": "stdout",
     "output_type": "stream",
     "text": [
      "Sample Mean: 2.9194\n",
      "Z-statistic: 42.4462\n",
      "One-tailed p-value: 0.0000\n",
      " Reject H₀: The average number of goals in men's matches is significantly greater than 2.5.\n"
     ]
    }
   ],
   "source": [
    "# Why this test?\n",
    "\n",
    "# We want to check if the average number of goals scored in men's matches \n",
    "# is significantly greater than 2.5. Since we have a large sample and \n",
    "# don't know the population variance, we use a one-sample Z-test.\n",
    "\n",
    "from scipy.stats import norm\n",
    "\n",
    "mu = 2.5\n",
    "sample_mean = m_goals.mean()\n",
    "sample_std = m_goals.std()\n",
    "n = len(m_goals)\n",
    "\n",
    "z_stat = (sample_mean - mu) / (sample_std / np.sqrt(n))\n",
    "\n",
    "# Since we're testing if the mean is greater than 2.5 (right-tailed),\n",
    "# we subtract the cumulative probability from 1\n",
    "\n",
    "p_value = 1 - norm.cdf(z_stat)\n",
    "\n",
    "print(f\"Sample Mean: {sample_mean:.4f}\")\n",
    "print(f\"Z-statistic: {z_stat:.4f}\")\n",
    "print(f\"One-tailed p-value: {p_value:.4f}\")\n",
    "\n",
    "alpha = 0.10  \n",
    "\n",
    "if p_value < alpha:\n",
    "    print(\" Reject H₀: The average number of goals in men's matches is significantly greater than 2.5.\")\n",
    "else:\n",
    "    print(\" Fail to reject H₀: No significant evidence that men's matches average more than 2.5 goals.\")"
   ]
  },
  {
   "cell_type": "markdown",
   "id": "5155caf5-0b55-47a3-adcf-299c863fecf8",
   "metadata": {},
   "source": [
    "# Test 2\n",
    "\n",
    "We’re testing:\n",
    "\n",
    "1. H₀ (Null Hypothesis): μ_men − μ_women ≥ 0.75\n",
    "   (The average number of goals in men's matches is greater than or equal to that in women's matches by at least 0.75)\n",
    "\n",
    "2. H₁ (Alternative Hypothesis): μ_men − μ_women < 0.75\n",
    "   (The difference in average goals between men’s and women’s matches is less than 0.75)\n",
    "\n",
    "#### Conditions:\n",
    "     1. Two independent samples (Men’s and Women’s matches)\n",
    "\n",
    "     2. Large sample size for both groups (CLT applies)\n",
    "\n",
    "     3. Population variances unknown\n",
    "\n",
    "     4. Left-tailed test\n",
    "\n",
    "     5. Unequal variances assumed → Use Welch’s T-test\n",
    "\n",
    "#### Formula for T test :\n",
    "     \n",
    "     T = ((x̄₁ − x̄₂) − δ) / √(s₁² / n₁ + s₂² / n₂)\n",
    "Where:\n",
    "\n",
    "x̄₁ = sample mean of men's goals\n",
    "\n",
    "x̄₂ = sample mean of women's goals\n",
    "\n",
    "s₁, s₂ = sample standard deviations\n",
    "\n",
    "n₁, n₂ = sample sizes\n",
    "\n",
    "δ = hypothesized difference (e.g., 0.75)"
   ]
  },
  {
   "cell_type": "code",
   "execution_count": 55,
   "id": "2173e49a-ee6c-40c1-8458-949246b52996",
   "metadata": {},
   "outputs": [
    {
     "name": "stdout",
     "output_type": "stream",
     "text": [
      "Observed difference in means (Men - Women): -0.7848\n",
      "T-statistic: -37.3121\n",
      "One-tailed p-value: 0.0000\n",
      " Reject H₀: The average goal difference is significantly less than 0.75.\n"
     ]
    }
   ],
   "source": [
    "from scipy.stats import ttest_ind\n",
    "\n",
    "m_goals = men_df['goals_scored']\n",
    "w_goals = women_df['goals_scored']\n",
    "\n",
    "mean_diff = m_goals.mean() - w_goals.mean()\n",
    "print(f\"Observed difference in means (Men - Women): {mean_diff:.4f}\")\n",
    "\n",
    "# We're testing if (mean_men - mean_women) < 0.75\n",
    "# So we shift the women's goals upward by 0.75 to test if mean_men < mean_women + 0.75\n",
    "adjusted_women_goals = w_goals + 0.75\n",
    "\n",
    "# We use equal_var = False because population variances are unknown and assumed unequal\n",
    "# Since it's a left-tailed test, use alternative='less'\n",
    "t_stat, p_value = ttest_ind(m_goals, adjusted_women_goals, equal_var=False, alternative='less')\n",
    "\n",
    "print(f\"T-statistic: {t_stat:.4f}\")\n",
    "print(f\"One-tailed p-value: {p_value:.4f}\")\n",
    "\n",
    "alpha = 0.10  \n",
    "if p_value < alpha:\n",
    "    print(\" Reject H₀: The average goal difference is significantly less than 0.75.\")\n",
    "else:\n",
    "    print(\" Fail to reject H₀: No significant evidence that the difference is less than 0.75.\")"
   ]
  },
  {
   "cell_type": "markdown",
   "id": "f30e2bf5-c1f6-485d-a608-1e3989e39398",
   "metadata": {},
   "source": [
    "# Test 3\n",
    "\n",
    "We're testing:\n",
    "\n",
    "    1. H₀ (Null Hypothesis):The mean number of goals in FIFA World Cup matches is greater than or equal to that in other tournaments.\n",
    "       (μ_FIFA ≥ μ_other)\n",
    "\n",
    "    2. H₁ (Alternative Hypothesis): The mean number of goals in FIFA World Cup matches is less than in other tournaments.\n",
    "       (μ_FIFA < μ_other)\n",
    "\n",
    "We use Anova testing for 2 groups."
   ]
  },
  {
   "cell_type": "code",
   "execution_count": 57,
   "id": "c210dbdc-bcc3-42e7-b679-105b5bac3f51",
   "metadata": {},
   "outputs": [
    {
     "name": "stdout",
     "output_type": "stream",
     "text": [
      "Women's FIFA matches: 456\n",
      "Men's FIFA matches: 8843\n"
     ]
    }
   ],
   "source": [
    "# Filter FIFA matches from women's data\n",
    "women_fifa_df = women_df[women_df['tournament'].str.contains('FIFA', case=False, na=False)]\n",
    "\n",
    "# Filter FIFA matches from men's data\n",
    "men_fifa_df = men_df[men_df['tournament'].str.contains('FIFA', case=False, na=False)]\n",
    "\n",
    "# Check how many rows each has\n",
    "print(\"Women's FIFA matches:\", women_fifa_df.shape[0])\n",
    "print(\"Men's FIFA matches:\", men_fifa_df.shape[0])\n"
   ]
  },
  {
   "cell_type": "code",
   "execution_count": 60,
   "id": "eda45bef-bbd0-407f-b943-61520db49304",
   "metadata": {},
   "outputs": [
    {
     "name": "stdout",
     "output_type": "stream",
     "text": [
      "FIFA World Cup matches: 964\n",
      "Other tournament matches: 43389\n"
     ]
    }
   ],
   "source": [
    "# First we should seperate FIFA matches and other tournament\n",
    "\n",
    "list = []\n",
    "\n",
    "for i in range (0, men_df.shape[0]):\n",
    "    if men_df.iloc[i]['tournament'] == 'FIFA World Cup':\n",
    "        list.append('Yes')\n",
    "    else:\n",
    "        list.append('No')\n",
    "\n",
    "# Created a new FIFA column\n",
    "men_df['FIFA'] = list\n",
    "\n",
    "# Created 2 different dataframe\n",
    "FIFA_table = men_df[men_df['FIFA'] == 'Yes']\n",
    "Other_table = men_df[men_df['FIFA'] == 'No']\n",
    "\n",
    "print(\"FIFA World Cup matches:\", FIFA_table.shape[0])\n",
    "print(\"Other tournament matches:\", Other_table.shape[0])"
   ]
  },
  {
   "cell_type": "code",
   "execution_count": 70,
   "id": "3a6dea52-fe57-454c-b728-9b7bba56f034",
   "metadata": {},
   "outputs": [
    {
     "name": "stdout",
     "output_type": "stream",
     "text": [
      "2.8215767634854774 2.921523888543179\n"
     ]
    }
   ],
   "source": [
    "# Compute the mean\n",
    "mean_fifa = FIFA_table['goals_scored'].mean()\n",
    "mean_other = Other_table['goals_scored'].mean()\n",
    "\n",
    "print(mean_fifa , mean_other)"
   ]
  },
  {
   "cell_type": "code",
   "execution_count": 67,
   "id": "c7b9f888-3add-443a-a64c-40d4a84a80ef",
   "metadata": {},
   "outputs": [
    {
     "name": "stdout",
     "output_type": "stream",
     "text": [
      "Standard Error of FIFA table: 0.06247007080471112\n",
      "Standard Error of Other table: 0.009892339427617565\n"
     ]
    }
   ],
   "source": [
    "# Created a funcion for finding error standard deviation based on bootstrap\n",
    "\n",
    "def find_error(df):\n",
    "    all_means = []\n",
    "    for i in range(5000):\n",
    "        sample = df.sample(frac = 1, replace = True)\n",
    "        mean = sample['goals_scored'].mean()\n",
    "        all_means.append(mean)\n",
    "    return np.std(all_means) \n",
    "\n",
    "se_f = find_error(FIFA_table)\n",
    "se_o = find_error(Other_table)\n",
    "print(f\"Standard Error of FIFA table: {se_f}\")\n",
    "print(f\"Standard Error of Other table: {se_o}\")"
   ]
  },
  {
   "cell_type": "code",
   "execution_count": 71,
   "id": "efeedaf5-4af0-4ec5-9f28-f0776c8b3833",
   "metadata": {},
   "outputs": [
    {
     "name": "stdout",
     "output_type": "stream",
     "text": [
      "T-statistic: -50.3036\n"
     ]
    }
   ],
   "source": [
    "# Now applying the t-score formula:\n",
    "\n",
    "num = mean_fifa - mean_other\n",
    "denom = np.sqrt(se_f ** 2 / FIFA_table.shape[0] + se_o ** 2 / Other_table.shape[0])\n",
    "\n",
    "t_stat = num / denom\n",
    "\n",
    "print(f\"T-statistic: {t_stat:.4f}\")"
   ]
  },
  {
   "cell_type": "code",
   "execution_count": 75,
   "id": "1a136546-59bd-47ed-9981-ab3058bea514",
   "metadata": {},
   "outputs": [
    {
     "name": "stdout",
     "output_type": "stream",
     "text": [
      "Degrees of Freedom (Welch): -42423.00\n",
      "One-tailed p-value: 0.0000\n",
      " Reject H₀: FIFA matches have significantly fewer goals than other tournaments.\n"
     ]
    }
   ],
   "source": [
    "# Calculating degree of freedom\n",
    "\n",
    "dof = FIFA_table.shape[0] - Other_table.shape[0] + 2\n",
    "\n",
    "# Convert t-score to t-standard CDF to find p-value\n",
    "\n",
    "from scipy.stats import t\n",
    "\n",
    "#Left tailed\n",
    "t.cdf(t_stat, df = dof)\n",
    "\n",
    "print(f\"Degrees of Freedom (Welch): {dof:.2f}\")\n",
    "print(f\"One-tailed p-value: {p_value:.4f}\")\n",
    "\n",
    "# Interpret result\n",
    "alpha = 0.10\n",
    "if p_value < alpha:\n",
    "    print(\" Reject H₀: FIFA matches have significantly fewer goals than other tournaments.\")\n",
    "else:\n",
    "    print(\" Fail to reject H₀: No significant evidence that FIFA matches have fewer goals.\")"
   ]
  },
  {
   "cell_type": "markdown",
   "id": "7501adda-f377-43dc-8350-8a56f8c158e3",
   "metadata": {},
   "source": [
    "# Conclusion\n",
    "\n",
    "✅ Women’s international matches tend to score more goals than men’s.\n",
    "\n",
    "✅ Men’s FIFA World Cup matches score fewer goals than other international tournaments.\n",
    "\n",
    "✅ Statistical tests confirm that goal distributions are not normal, and using Welch’s t-tests with bootstrapping gives more robust conclusions."
   ]
  }
 ],
 "metadata": {
  "kernelspec": {
   "display_name": "Python 3 (ipykernel)",
   "language": "python",
   "name": "python3"
  },
  "language_info": {
   "codemirror_mode": {
    "name": "ipython",
    "version": 3
   },
   "file_extension": ".py",
   "mimetype": "text/x-python",
   "name": "python",
   "nbconvert_exporter": "python",
   "pygments_lexer": "ipython3",
   "version": "3.13.5"
  }
 },
 "nbformat": 4,
 "nbformat_minor": 5
}
